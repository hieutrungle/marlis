{
 "cells": [
  {
   "cell_type": "code",
   "execution_count": 1,
   "metadata": {},
   "outputs": [],
   "source": [
    "from typing import Tuple, Callable, Dict, Optional, Union\n",
    "import numpy as np\n",
    "import math\n",
    "import glob\n",
    "import os\n",
    "import sys\n",
    "from saris.utils import load_data\n",
    "import json\n",
    "import torch\n",
    "from tensordict import TensorDict, from_module, from_modules\n",
    "from tensordict.nn import TensorDictModule\n",
    "from torchrl.data import ReplayBuffer, LazyMemmapStorage\n",
    "from saris.utils import utils, pytorch_utils, running_mean\n"
   ]
  },
  {
   "cell_type": "code",
   "execution_count": 2,
   "metadata": {},
   "outputs": [],
   "source": [
    "class Config:\n",
    "    seed: int = 0\n",
    "    ep_len: int = 1000\n",
    "    eval_ep_len: int = 1000\n",
    "    eval_seed: int = 0\n",
    "    env_id: str = \"wireless-sigmap-v0\"\n",
    "    sionna_config_file: str = \"/home/hieule/research/saris/configs/sionna_L_multi_users.yaml\"\n",
    "    num_envs:int = 2\n",
    "    name:str = \"sac\"\n",
    "    load_replay_buffer:str = \"/home/hieule/research/saris/local_assets/replay_buffers/TD3__L_shape_static__wireless-sigmap-v0__0865b983\"\n",
    "    buffer_size: int = int(100000)\n",
    "    batch_size: int = 256\n",
    "    \n",
    "config = Config()"
   ]
  },
  {
   "cell_type": "code",
   "execution_count": 3,
   "metadata": {},
   "outputs": [],
   "source": [
    "def normalize_obs(\n",
    "    flat_obs: torch.Tensor,\n",
    "    real_channel_rms: running_mean.RunningMeanStd,\n",
    "    imag_channel_rms: running_mean.RunningMeanStd,\n",
    "    epsilon: float = 1e-10,\n",
    "):\n",
    "    # real_mean = real_channel_rms.mean.to(flat_obs.device)\n",
    "    # real_var = real_channel_rms.var.to(flat_obs.device)\n",
    "    real_channel_len = real_channel_rms.mean.shape[0]\n",
    "    real_channels = flat_obs[..., :real_channel_len]\n",
    "    # # whittening\n",
    "    # real_channels = (real_channels - real_mean) / torch.sqrt(real_var + epsilon)\n",
    "    # scaling\n",
    "    min_ = real_channel_rms.min.to(flat_obs.device)\n",
    "    max_ = real_channel_rms.max.to(flat_obs.device)\n",
    "    real_channels = (real_channels - min_) / (max_ - min_ + epsilon)\n",
    "\n",
    "    # imag_mean = imag_channel_rms.mean.to(flat_obs.device)\n",
    "    # imag_var = imag_channel_rms.var.to(flat_obs.device)\n",
    "    imag_channel_len = imag_channel_rms.mean.shape[0]\n",
    "    imag_channels = flat_obs[..., real_channel_len : real_channel_len + imag_channel_len]\n",
    "    # # whittening\n",
    "    # imag_channels = (imag_channels - imag_mean) / torch.sqrt(imag_var + epsilon)\n",
    "    # scaling\n",
    "    min_ = imag_channel_rms.min.to(flat_obs.device)\n",
    "    max_ = imag_channel_rms.max.to(flat_obs.device)\n",
    "    imag_channels = (imag_channels - min_) / (max_ - min_ + epsilon)\n",
    "\n",
    "    # angles\n",
    "    angle_len = 72\n",
    "    angles = flat_obs[\n",
    "        ..., real_channel_len + imag_channel_len : real_channel_len + imag_channel_len + angle_len\n",
    "    ]\n",
    "    init_angles = [math.radians(135.0)] + [math.radians(90.0)] * 7\n",
    "    init_angles = np.concatenate([init_angles] * 9)\n",
    "    # offset\n",
    "    angles = torch.sub(angles, torch.tensor(init_angles, device=angles.device, dtype=angles.dtype))\n",
    "    # normalize\n",
    "    angles = torch.div(torch.rad2deg(angles), 45.0)\n",
    "\n",
    "    pos = flat_obs[..., real_channel_len + imag_channel_len + angle_len :]\n",
    "    flat_obs = torch.cat([real_channels, imag_channels, angles, pos], dim=-1)\n",
    "    return flat_obs.float()\n",
    "\n",
    "def update_channel_rmss(\n",
    "    flat_obs: Tuple[torch.Tensor, torch.Tensor, torch.Tensor],\n",
    "    real_channel_rms: running_mean.RunningMeanStd,\n",
    "    imag_channel_rms: running_mean.RunningMeanStd,\n",
    "):\n",
    "    real_channel_len = np.prod(real_channel_rms.mean.shape)\n",
    "    real_channel_rms.update(flat_obs[..., :real_channel_len])\n",
    "    imag_channel_len = np.prod(imag_channel_rms.mean.shape)\n",
    "    imag_channel_rms.update(flat_obs[..., real_channel_len : real_channel_len + imag_channel_len])\n"
   ]
  },
  {
   "cell_type": "code",
   "execution_count": 4,
   "metadata": {},
   "outputs": [],
   "source": [
    "real_channel_rms = running_mean.RunningMeanStd(shape=(1104,))\n",
    "imag_channel_rms = running_mean.RunningMeanStd(shape=(1104,))\n",
    "obs_rmss = (real_channel_rms, imag_channel_rms)"
   ]
  },
  {
   "cell_type": "code",
   "execution_count": 5,
   "metadata": {},
   "outputs": [],
   "source": [
    "replay_buffer_dir = \"/home/hieule/research/saris/local_assets/replay_buffers\"\n",
    "rb_dir = os.path.join(replay_buffer_dir, \"tmptmp\")\n",
    "rb = ReplayBuffer(\n",
    "        storage=LazyMemmapStorage(config.buffer_size, scratch_dir=rb_dir, existsok=True),\n",
    "        batch_size=config.batch_size,\n",
    "    )"
   ]
  },
  {
   "cell_type": "code",
   "execution_count": 6,
   "metadata": {},
   "outputs": [],
   "source": [
    "rb.loads(config.load_replay_buffer)\n",
    "stored_obs = np.asarray(rb.storage.get(\"observations\"))\n",
    "update_channel_rmss(torch.tensor(stored_obs), obs_rmss[0], obs_rmss[1])"
   ]
  },
  {
   "cell_type": "code",
   "execution_count": 12,
   "metadata": {},
   "outputs": [],
   "source": [
    "cur_gains = np.asarray(rb['path_gains'])\n",
    "next_gains = np.asarray(rb['next_path_gains'])\n",
    "gain_diff = np.mean(next_gains - cur_gains, axis=-1)\n",
    "mean_gains = np.mean(cur_gains, axis=-1)"
   ]
  },
  {
   "cell_type": "code",
   "execution_count": 18,
   "metadata": {},
   "outputs": [
    {
     "name": "stdout",
     "output_type": "stream",
     "text": [
      "[[-106.648186  -95.02979   -99.23008 ]\n",
      " [-106.10482  -103.20533  -105.8541  ]\n",
      " [-106.62189  -101.21948  -104.80565 ]\n",
      " [ -89.63991  -103.06411  -105.8839  ]\n",
      " [-106.641075 -103.30127  -105.46685 ]\n",
      " [-106.4852   -103.26988  -105.853584]\n",
      " [-106.64636  -103.02502  -105.820145]\n",
      " [-106.64822  -103.30453   -87.88037 ]\n",
      " [-101.65854   -98.42372   -80.20291 ]\n",
      " [-106.58824  -103.181015 -105.88792 ]]\n",
      "[-100.30268  -105.05475  -104.215675  -99.529305 -105.136406 -105.20289\n",
      " -105.16384   -99.27771   -93.42838  -105.219055]\n",
      "[-1.4950217704800441, -1.4999570188338682, -1.4999005320776284, -1.489211823406437, -1.4999603890889, -1.4999629368924503, -1.499961461054154, -1.4861256013514996, -0.4214191436767578, -1.4999635312626658]\n",
      "[0.3437147855758667, -0.00821533203125, 0.01914939880371094, -0.24702785015106202, 0.03609403073787689, 0.048152923583984375, 0.17575111389160158, -0.2800238370895386, -0.4170111179351807, 0.02130991667509079]\n"
     ]
    }
   ],
   "source": [
    "adjusted_gains = []\n",
    "gdifs = []\n",
    "for i, mean_gain in enumerate(mean_gains[:10]):\n",
    "    if mean_gain < -95:\n",
    "        adjusted_gain = -1.5 + np.exp(mean_gain + 95)\n",
    "    elif mean_gain < -85:\n",
    "        adjusted_gain = -0.5 + (mean_gain + 95) / 20\n",
    "    else:\n",
    "        adjusted_gain = np.log(1 + 85 + mean_gain)\n",
    "    adjusted_gains.append(adjusted_gain)\n",
    "    \n",
    "    gdifs.append(gain_diff[i]*0.05)\n",
    "\n",
    "print(cur_gains[:10])\n",
    "print(mean_gains[:10])\n",
    "print(adjusted_gains)\n",
    "print(gdifs)\n",
    "# if mean_gain < -95:\n",
    "#     adjusted_gain = -1.5 + np.exp(mean_gain + 95)\n",
    "# elif mean_gain < -85:\n",
    "#     # linear increase from -0.5 to 0 between -95 and -85\n",
    "#     adjusted_gain = -0.5 + (mean_gain + 95) / 20\n",
    "# else:\n",
    "#     adjusted_gain = np.log(1 + 85 + mean_gain)"
   ]
  },
  {
   "cell_type": "code",
   "execution_count": 24,
   "metadata": {},
   "outputs": [
    {
     "data": {
      "text/plain": [
       "0.148"
      ]
     },
     "execution_count": 24,
     "metadata": {},
     "output_type": "execute_result"
    }
   ],
   "source": [
    "74*0.002"
   ]
  },
  {
   "cell_type": "code",
   "execution_count": 99,
   "metadata": {},
   "outputs": [
    {
     "data": {
      "text/plain": [
       "array([-1.1081574 , -0.57496566, -0.96292955, -1.8330529 , -0.36588973,\n",
       "       -0.95808715, -1.1893791 , -0.8835228 , -1.3083122 , -1.0495536 ,\n",
       "       -1.7543709 , -1.1871239 , -0.8969658 , -0.81738204, -1.0799583 ,\n",
       "       -0.5896965 , -1.1098855 , -1.2157784 , -0.38344422, -1.348706  ,\n",
       "       -0.38696593, -0.8876457 ,  0.4603302 , -0.15166244, -0.59511185,\n",
       "       -0.5104378 , -1.0158653 , -0.11572723], dtype=float32)"
      ]
     },
     "execution_count": 99,
     "metadata": {},
     "output_type": "execute_result"
    }
   ],
   "source": [
    "(adjusted_gains)/10"
   ]
  },
  {
   "cell_type": "code",
   "execution_count": 105,
   "metadata": {},
   "outputs": [
    {
     "data": {
      "text/plain": [
       "array([-0.05262639,  0.1999363 ,  0.02450562, -0.40777674,  0.30832428,\n",
       "        0.02093914, -0.09587889,  0.05657829, -0.1586167 , -0.02615253,\n",
       "       -0.37101308, -0.09380568,  0.04968718,  0.09358583, -0.04027845,\n",
       "        0.19889092, -0.04353157, -0.108305  ,  0.30824268, -0.16974244,\n",
       "        0.31498998,  0.06353697,  0.7229349 ,  0.4264663 ,  0.19823654,\n",
       "        0.2487282 , -0.00936182,  0.43931222], dtype=float32)"
      ]
     },
     "execution_count": 105,
     "metadata": {},
     "output_type": "execute_result"
    }
   ],
   "source": [
    "(adjusted_gains + 0.02*gain_diff)/20"
   ]
  },
  {
   "cell_type": "code",
   "execution_count": 87,
   "metadata": {},
   "outputs": [
    {
     "data": {
      "text/plain": [
       "array([-0.39242175, -0.24977407, -0.3327172 , -0.6158101 , -0.17045702,\n",
       "       -0.34607226, -0.42609972, -0.32532504, -0.47392222, -0.37995714,\n",
       "       -0.59602606, -0.42298397, -0.3302301 , -0.29343522, -0.38740098,\n",
       "       -0.23888423, -0.36810064, -0.4329657 , -0.15456945, -0.46470886,\n",
       "       -0.1344729 , -0.304149  ,  0.10870124, -0.07147709, -0.23555613,\n",
       "       -0.18694483, -0.36886132, -0.07230286], dtype=float32)"
      ]
     },
     "execution_count": 87,
     "metadata": {},
     "output_type": "execute_result"
    }
   ],
   "source": [
    "(adjusted_gains + 0.025*gain_diff - 0.02 * 40)/30"
   ]
  },
  {
   "cell_type": "code",
   "execution_count": null,
   "metadata": {},
   "outputs": [
    {
     "data": {
      "text/plain": [
       "array([-91.08157 , -85.74966 , -89.629295, -98.33053 , -83.6589  ,\n",
       "       -89.58087 , -91.89379 , -88.83523 , -93.08312 , -90.49554 ,\n",
       "       -97.54371 , -91.87124 , -88.96966 , -88.17382 , -90.79958 ,\n",
       "       -85.896965, -91.098854, -92.15778 , -83.83444 , -93.48706 ,\n",
       "       -83.86966 , -88.87646 , -75.3967  , -81.516624, -85.95112 ,\n",
       "       -85.10438 , -90.15865 , -81.15727 ], dtype=float32)"
      ]
     },
     "execution_count": 39,
     "metadata": {},
     "output_type": "execute_result"
    }
   ],
   "source": [
    "avg_cur_gains = np.mean(cur_gains, axis=-1)\n",
    "avg_cur_gains"
   ]
  },
  {
   "cell_type": "code",
   "execution_count": 34,
   "metadata": {},
   "outputs": [
    {
     "data": {
      "text/plain": [
       "array([ 0.21784249, -1.8871304 ,  0.89555854,  1.3124489 , -1.3096253 ,\n",
       "       -0.00259171, -0.17840004, -0.24904709, -0.6690888 , -0.20635377,\n",
       "        0.9258545 , -0.03656082, -0.27448884,  0.34152755, -0.04489212,\n",
       "       -0.9391228 ,  1.7116692 , -0.06237335, -0.00528297,  0.69159013,\n",
       "        1.2709442 ,  1.1039753 , -1.0845295 ,  0.34462357, -0.6311302 ,\n",
       "        0.59206545, -0.2143734 , -0.42362672], dtype=float32)"
      ]
     },
     "execution_count": 34,
     "metadata": {},
     "output_type": "execute_result"
    }
   ],
   "source": [
    "gain_diff = np.sum(next_gains - cur_gains, axis=-1)\n",
    "gain_diff * 0.05"
   ]
  },
  {
   "cell_type": "code",
   "execution_count": 47,
   "metadata": {},
   "outputs": [
    {
     "data": {
      "text/plain": [
       "array([-0.13579664, -0.09545984, -0.10917167, -0.21272603, -0.06210651,\n",
       "       -0.11979332, -0.15090236, -0.11355343, -0.17190266, -0.13377361,\n",
       "       -0.20772314, -0.14884749, -0.11555185, -0.09790363, -0.13555594,\n",
       "       -0.08545113, -0.1173398 , -0.15275192, -0.04799652, -0.15994339,\n",
       "       -0.03248396, -0.09715605,  0.0439847 , -0.01464996, -0.08227806,\n",
       "       -0.05640392, -0.1296628 , -0.01976128], dtype=float32)"
      ]
     },
     "execution_count": 47,
     "metadata": {},
     "output_type": "execute_result"
    }
   ],
   "source": [
    "rewards = avg_cur_gains + gain_diff * 0.05\n",
    "(rewards + 80)/80"
   ]
  },
  {
   "cell_type": "code",
   "execution_count": 44,
   "metadata": {},
   "outputs": [
    {
     "data": {
      "text/plain": [
       "-0.75"
      ]
     },
     "execution_count": 44,
     "metadata": {},
     "output_type": "execute_result"
    }
   ],
   "source": [
    "-60/80"
   ]
  },
  {
   "cell_type": "code",
   "execution_count": 38,
   "metadata": {},
   "outputs": [
    {
     "data": {
      "text/plain": [
       "array([-82.491615, -78.040306, -77.27826 , -91.35905 , -77.49554 ,\n",
       "       -78.06777 , -79.97712 , -83.04637 , -83.51123 , -78.3449  ,\n",
       "       -91.81504 , -76.17207 , -77.59145 , -77.30848 , -83.05356 ,\n",
       "       -81.49085 , -81.196335, -82.56216 , -74.7204  , -77.6953  ,\n",
       "       -72.27406 , -79.524605, -71.08144 , -76.07428 , -74.541595,\n",
       "       -73.32467 , -81.23369 , -73.20522 ], dtype=float32)"
      ]
     },
     "execution_count": 38,
     "metadata": {},
     "output_type": "execute_result"
    }
   ],
   "source": [
    "rewards = total_cur_gains + gain_diff * 0.05\n",
    "rewards"
   ]
  },
  {
   "cell_type": "code",
   "execution_count": null,
   "metadata": {},
   "outputs": [],
   "source": []
  },
  {
   "cell_type": "code",
   "execution_count": 7,
   "metadata": {},
   "outputs": [
    {
     "name": "stdout",
     "output_type": "stream",
     "text": [
      "[3.5390137e-06 5.2522237e-06 5.1776506e-06 ... 5.4840098e-06 1.4956104e-06\n",
      " 1.5843410e-06]\n",
      "[-4.4215444e-06 -4.2042370e-06 -6.4661021e-06 ... -6.3247408e-06\n",
      " -1.7040716e-06 -1.4679688e-06]\n"
     ]
    }
   ],
   "source": [
    "print(np.max(stored_obs[..., :1104], axis=0))\n",
    "print(np.min(stored_obs[..., :1104], axis=0))\n"
   ]
  },
  {
   "cell_type": "code",
   "execution_count": 8,
   "metadata": {},
   "outputs": [
    {
     "name": "stdout",
     "output_type": "stream",
     "text": [
      "real mean: tensor([-4.1666e-08,  4.9725e-08, -6.1573e-08,  ..., -2.1733e-09,\n",
      "        -4.3409e-09,  5.0589e-09])\n",
      "real var: tensor([1.9988e-13, 2.7937e-13, 4.1933e-13,  ..., 2.6501e-13, 3.8605e-14,\n",
      "        3.1103e-14])\n",
      "real max: tensor([3.5390e-06, 5.2522e-06, 5.1777e-06,  ..., 5.4840e-06, 1.4956e-06,\n",
      "        1.5843e-06])\n",
      "real min: tensor([-4.4215e-06, -4.2042e-06, -6.4661e-06,  ..., -6.3247e-06,\n",
      "        -1.7041e-06, -1.4680e-06])\n",
      "real normalized_max: tensor([1., 1., 1.,  ..., 1., 1., 1.])\n",
      "real normalized_min: tensor([1., 1., 1.,  ..., 1., 1., 1.])\n"
     ]
    }
   ],
   "source": [
    "print(f\"real mean: {obs_rmss[0].mean}\")\n",
    "print(f\"real var: {obs_rmss[0].var}\")\n",
    "print(f\"real max: {obs_rmss[0].max}\")\n",
    "print(f\"real min: {obs_rmss[0].min}\")\n",
    "print(f\"real normalized_max: {obs_rmss[0].normalized_max}\")\n",
    "print(f\"real normalized_min: {obs_rmss[0].normalized_min}\")"
   ]
  },
  {
   "cell_type": "code",
   "execution_count": 30,
   "metadata": {},
   "outputs": [],
   "source": [
    "obs = rb['observations']\n",
    "b=normalize_obs(obs, obs_rmss[0], obs_rmss[1])[...,:]"
   ]
  },
  {
   "cell_type": "code",
   "execution_count": 31,
   "metadata": {},
   "outputs": [
    {
     "data": {
      "text/plain": [
       "tensor([0., 0., 0.,  ..., 0., 0., 0.])"
      ]
     },
     "execution_count": 31,
     "metadata": {},
     "output_type": "execute_result"
    }
   ],
   "source": [
    "torch.min(b[...,:1104], dim =0).values"
   ]
  },
  {
   "cell_type": "code",
   "execution_count": 32,
   "metadata": {},
   "outputs": [
    {
     "data": {
      "text/plain": [
       "tensor([1.0000, 1.0000, 1.0000,  ..., 1.0000, 1.0000, 1.0000])"
      ]
     },
     "execution_count": 32,
     "metadata": {},
     "output_type": "execute_result"
    }
   ],
   "source": [
    "torch.max(b[...,:1104], dim =0).values"
   ]
  },
  {
   "cell_type": "code",
   "execution_count": 23,
   "metadata": {},
   "outputs": [
    {
     "data": {
      "text/plain": [
       "MemoryMappedTensor([-9.3064e-08,  1.1109e-07, -1.3749e-07,  ...,\n",
       "                    -1.9914e-08,  1.7944e-08, -1.6314e-08])"
      ]
     },
     "execution_count": 23,
     "metadata": {},
     "output_type": "execute_result"
    }
   ],
   "source": [
    "obs[20000,:1104]"
   ]
  },
  {
   "cell_type": "code",
   "execution_count": 15,
   "metadata": {},
   "outputs": [
    {
     "name": "stdout",
     "output_type": "stream",
     "text": [
      "real: tensor([0.5431, 0.4559, 0.5431,  ..., 0.5335, 0.5365, 0.4740])\n",
      "imag: tensor([0.5105, 0.4909, 0.5045,  ..., 0.5050, 0.5280, 0.4744])\n",
      "angle: tensor([-0.6667,  0.1943,  0.1575,  0.1204,  0.0831,  0.0456,  0.0081, -0.0294,\n",
      "        -0.6667,  0.5613,  0.5315,  0.5012,  0.4702,  0.4386,  0.4065,  0.3738,\n",
      "         0.1456, -0.4751, -0.5161, -0.5559, -0.5947, -0.6323, -0.6667, -0.6667,\n",
      "        -0.6667,  0.2754,  0.2318,  0.1876,  0.1429,  0.0979,  0.0526,  0.0072,\n",
      "        -0.1305, -0.5939, -0.6187, -0.6429, -0.6667, -0.6667, -0.6667, -0.6667,\n",
      "        -0.3208,  0.1271,  0.0998,  0.0725,  0.0451,  0.0176, -0.0099, -0.0373,\n",
      "         0.5999,  0.3432,  0.3133,  0.2830,  0.2525,  0.2216,  0.1905,  0.1591,\n",
      "         0.3894, -0.0422, -0.0767, -0.1111, -0.1454, -0.1794, -0.2132, -0.2466,\n",
      "         0.5192,  0.1542,  0.1223,  0.0902,  0.0580,  0.0257, -0.0066, -0.0389])\n",
      "pos: tensor([-10.0000,  -2.7500,   1.5000,  -8.0000,  -4.2500,   1.5000, -11.0000,\n",
      "         -3.2500,   1.5000,   2.0922,  -3.8880,   2.0606])\n"
     ]
    }
   ],
   "source": [
    "print(f\"real: {b[:1104]}\")\n",
    "print(f\"imag: {b[1104:2208]}\")\n",
    "print(f\"angle: {b[2208:2280]}\")\n",
    "print(f\"pos: {b[2280:]}\")"
   ]
  },
  {
   "cell_type": "code",
   "execution_count": null,
   "metadata": {},
   "outputs": [],
   "source": []
  },
  {
   "cell_type": "code",
   "execution_count": 19,
   "metadata": {},
   "outputs": [
    {
     "name": "stdout",
     "output_type": "stream",
     "text": [
      "max_obs: tensor([3.5390e-06, 5.2522e-06, 5.1777e-06,  ..., 5.4840e-06, 1.4956e-06,\n",
      "        1.5843e-06])\n",
      "min_obs: tensor([-4.4215e-06, -4.2042e-06, -6.4661e-06,  ..., -6.3247e-06,\n",
      "        -1.7041e-06, -1.4680e-06])\n",
      "max_b: tensor([0.0358, 0.0520, 0.0524,  ..., 0.0549, 0.0150, 0.0158])\n",
      "min_b: tensor([-0.0438, -0.0425, -0.0640,  ..., -0.0632, -0.0170, -0.0147])\n",
      "tensor([1., 1., 1.,  ..., 1., 1., 1.])\n",
      "tensor([0., 0., 0.,  ..., 0., 0., 0.])\n"
     ]
    }
   ],
   "source": [
    "obs = rb['observations']\n",
    "\n",
    "min_obs = torch.min(obs[...,:1104], axis=0).values\n",
    "max_obs = torch.max(obs[...,:1104], axis=0).values\n",
    "print(f\"max_obs: {max_obs}\")\n",
    "print(f\"min_obs: {min_obs}\")\n",
    "\n",
    "normalized_min_obs = (obs[...,:1104] - min_obs) / (max_obs - min_obs)\n",
    "\n",
    "\n",
    "b=normalize_obs(obs, obs_rmss[0], obs_rmss[1])[...,:1104]\n",
    "max_b = torch.max(b, dim=0).values\n",
    "min_b = torch.min(b, dim=0).values\n",
    "print(f\"max_b: {max_b}\")\n",
    "print(f\"min_b: {min_b}\")\n",
    "\n",
    "tmp = (b - min_b) / (max_b - min_b)\n",
    "print(torch.max(tmp, dim=0).values)\n",
    "print(torch.min(tmp, dim=0).values)"
   ]
  },
  {
   "cell_type": "code",
   "execution_count": 17,
   "metadata": {},
   "outputs": [
    {
     "data": {
      "text/plain": [
       "tensor([[0.8838, 0.1171, 0.8816,  ..., 0.6036, 0.4370, 0.5761],\n",
       "        [0.5790, 0.4202, 0.5808,  ..., 0.3509, 0.5475, 0.4342],\n",
       "        [0.7300, 0.2748, 0.7195,  ..., 0.5501, 0.9099, 0.0907],\n",
       "        ...,\n",
       "        [0.5482, 0.4518, 0.5482,  ..., 0.5312, 0.5476, 0.4662],\n",
       "        [0.5369, 0.4630, 0.5371,  ..., 0.5321, 0.5447, 0.4691],\n",
       "        [0.5517, 0.4484, 0.5514,  ..., 0.5317, 0.5459, 0.4678]])"
      ]
     },
     "execution_count": 17,
     "metadata": {},
     "output_type": "execute_result"
    }
   ],
   "source": [
    "tmp"
   ]
  },
  {
   "cell_type": "code",
   "execution_count": 13,
   "metadata": {},
   "outputs": [
    {
     "data": {
      "text/plain": [
       "torch.Size([20736, 1104])"
      ]
     },
     "execution_count": 13,
     "metadata": {},
     "output_type": "execute_result"
    }
   ],
   "source": [
    "b.shape"
   ]
  },
  {
   "cell_type": "code",
   "execution_count": null,
   "metadata": {},
   "outputs": [],
   "source": []
  },
  {
   "cell_type": "code",
   "execution_count": 19,
   "metadata": {},
   "outputs": [
    {
     "data": {
      "text/plain": [
       "torch.Size([20735, 2292])"
      ]
     },
     "execution_count": 19,
     "metadata": {},
     "output_type": "execute_result"
    }
   ],
   "source": [
    "obs = rb['observations'][:20735]\n",
    "obs.shape"
   ]
  },
  {
   "cell_type": "code",
   "execution_count": 11,
   "metadata": {},
   "outputs": [
    {
     "data": {
      "text/plain": [
       "MemoryMappedTensor([[ 1.5021e-07, -1.7631e-07,  2.1409e-07,  ...,\n",
       "                      1.7353e-07, -1.6117e-07,  1.5047e-07]])"
      ]
     },
     "execution_count": 11,
     "metadata": {},
     "output_type": "execute_result"
    }
   ],
   "source": [
    "obs[...,:1104]"
   ]
  },
  {
   "cell_type": "code",
   "execution_count": 20,
   "metadata": {},
   "outputs": [
    {
     "name": "stdout",
     "output_type": "stream",
     "text": [
      "tensor(0.7777)\n",
      "tensor(0.2691)\n"
     ]
    }
   ],
   "source": [
    "a=normalize_obs(obs, obs_rmss[0], obs_rmss[1])[...,:1104]\n",
    "print(torch.max(torch.abs(a)))\n",
    "print(torch.min(torch.abs(a)))"
   ]
  },
  {
   "cell_type": "code",
   "execution_count": 14,
   "metadata": {},
   "outputs": [
    {
     "name": "stdout",
     "output_type": "stream",
     "text": [
      "obs_rmss[0].max: tensor([3.5390e-06, 5.2522e-06, 5.1777e-06,  ..., 5.4840e-06, 1.4956e-06,\n",
      "        1.5843e-06])\n",
      "obs_rmss[0].min: tensor([-4.4215e-06, -4.2042e-06, -6.4661e-06,  ..., -6.3247e-06,\n",
      "        -1.7041e-06, -1.4680e-06])\n",
      "obs_rmss[1].max: tensor([3.7836e-06, 4.6288e-06, 5.5574e-06,  ..., 5.7870e-06, 2.1018e-06,\n",
      "        2.1972e-06])\n",
      "obs_rmss[1].min: tensor([-3.9293e-06, -4.4992e-06, -5.6388e-06,  ..., -5.8671e-06,\n",
      "        -2.4127e-06, -1.9483e-06])\n"
     ]
    }
   ],
   "source": [
    "print(f\"obs_rmss[0].max: {obs_rmss[0].max}\")\n",
    "print(f\"obs_rmss[0].min: {obs_rmss[0].min}\")\n",
    "print(f\"obs_rmss[1].max: {obs_rmss[1].max}\")\n",
    "print(f\"obs_rmss[1].min: {obs_rmss[1].min}\")"
   ]
  },
  {
   "cell_type": "code",
   "execution_count": 15,
   "metadata": {},
   "outputs": [
    {
     "name": "stdout",
     "output_type": "stream",
     "text": [
      "tensor([ 8.0091,  9.8430,  8.0908,  ..., 10.6571,  7.6341,  8.9549])\n"
     ]
    }
   ],
   "source": [
    "print(obs_rmss[0].normalized_max)"
   ]
  },
  {
   "cell_type": "code",
   "execution_count": 16,
   "metadata": {},
   "outputs": [
    {
     "name": "stdout",
     "output_type": "stream",
     "text": [
      "tensor([[0.5503, 0.4497, 0.5502,  ..., 0.5355, 0.5311, 0.4827]])\n",
      "tensor(0.7771)\n",
      "tensor(0.2698)\n"
     ]
    }
   ],
   "source": [
    "a=normalize_obs(obs, obs_rmss[0], obs_rmss[1])[...,:1104]\n",
    "print(a)\n",
    "print(torch.max(torch.abs(a)))\n",
    "print(torch.min(torch.abs(a)))"
   ]
  },
  {
   "cell_type": "code",
   "execution_count": 17,
   "metadata": {},
   "outputs": [
    {
     "name": "stdout",
     "output_type": "stream",
     "text": [
      "tensor([[0.5164, 0.4860, 0.5104,  ..., 0.5072, 0.5237, 0.4809]])\n",
      "tensor(0.6640)\n",
      "tensor(0.2145)\n"
     ]
    }
   ],
   "source": [
    "a=normalize_obs(obs, obs_rmss[0], obs_rmss[1])[...,1104:1104+1104]\n",
    "print(a)\n",
    "print(torch.max(torch.abs(a)))\n",
    "print(torch.min(torch.abs(a)))"
   ]
  },
  {
   "cell_type": "code",
   "execution_count": 22,
   "metadata": {},
   "outputs": [
    {
     "name": "stdout",
     "output_type": "stream",
     "text": [
      "tensor([[ 0.0019, -0.0023,  0.0028,  ...,  0.0018, -0.0016,  0.0015]])\n",
      "tensor(0.1093)\n",
      "tensor(1.6117e-06)\n"
     ]
    }
   ],
   "source": [
    "a=normalize_obs(obs, obs_rmss[0], obs_rmss[1])[...,:1104]\n",
    "print(a)\n",
    "print(torch.max(torch.abs(a)))\n",
    "print(torch.min(torch.abs(a)))\n"
   ]
  },
  {
   "cell_type": "code",
   "execution_count": 9,
   "metadata": {},
   "outputs": [
    {
     "data": {
      "text/plain": [
       "tensor([[ 15.0208, -17.6304,  21.4082,  ...,  17.3526, -16.1169,  15.0469]])"
      ]
     },
     "execution_count": 9,
     "metadata": {},
     "output_type": "execute_result"
    }
   ],
   "source": [
    "normalize_obs(obs, obs_rmss[0], obs_rmss[1])[...,:1104]"
   ]
  },
  {
   "cell_type": "code",
   "execution_count": 10,
   "metadata": {},
   "outputs": [
    {
     "data": {
      "text/plain": [
       "MemoryMappedTensor([[ 5.9157e-08, -6.8491e-08,  8.1607e-08,  ...,\n",
       "                     -1.4328e-08,  1.3809e-08, -1.3292e-08]])"
      ]
     },
     "execution_count": 10,
     "metadata": {},
     "output_type": "execute_result"
    }
   ],
   "source": [
    "obs[...,1104: 1104+1104]"
   ]
  },
  {
   "cell_type": "code",
   "execution_count": 11,
   "metadata": {},
   "outputs": [
    {
     "data": {
      "text/plain": [
       "tensor([[ 5.9156, -6.8489,  8.1604,  ..., -1.4328,  1.3809, -1.3292]])"
      ]
     },
     "execution_count": 11,
     "metadata": {},
     "output_type": "execute_result"
    }
   ],
   "source": [
    "normalize_obs(obs, obs_rmss[0], obs_rmss[1])[...,1104: 1104+1104]"
   ]
  },
  {
   "cell_type": "code",
   "execution_count": 25,
   "metadata": {},
   "outputs": [
    {
     "data": {
      "text/plain": [
       "array([2.35619449, 1.57079633, 1.57079633, 1.57079633, 1.57079633,\n",
       "       1.57079633, 1.57079633, 1.57079633, 2.35619449, 1.57079633,\n",
       "       1.57079633, 1.57079633, 1.57079633, 1.57079633, 1.57079633,\n",
       "       1.57079633, 2.35619449, 1.57079633, 1.57079633, 1.57079633,\n",
       "       1.57079633, 1.57079633, 1.57079633, 1.57079633, 2.35619449,\n",
       "       1.57079633, 1.57079633, 1.57079633, 1.57079633, 1.57079633,\n",
       "       1.57079633, 1.57079633, 2.35619449, 1.57079633, 1.57079633,\n",
       "       1.57079633, 1.57079633, 1.57079633, 1.57079633, 1.57079633,\n",
       "       2.35619449, 1.57079633, 1.57079633, 1.57079633, 1.57079633,\n",
       "       1.57079633, 1.57079633, 1.57079633, 2.35619449, 1.57079633,\n",
       "       1.57079633, 1.57079633, 1.57079633, 1.57079633, 1.57079633,\n",
       "       1.57079633, 2.35619449, 1.57079633, 1.57079633, 1.57079633,\n",
       "       1.57079633, 1.57079633, 1.57079633, 1.57079633, 2.35619449,\n",
       "       1.57079633, 1.57079633, 1.57079633, 1.57079633, 1.57079633,\n",
       "       1.57079633, 1.57079633])"
      ]
     },
     "execution_count": 25,
     "metadata": {},
     "output_type": "execute_result"
    }
   ],
   "source": [
    "init_angles = [math.radians(135.0)] + [math.radians(90.0)] * 7\n",
    "init_angles = np.concatenate([init_angles] * 9)\n",
    "init_angles"
   ]
  },
  {
   "cell_type": "code",
   "execution_count": null,
   "metadata": {},
   "outputs": [],
   "source": [
    "angles = np.array(rb['observations'][20735][-84:-12])"
   ]
  },
  {
   "cell_type": "code",
   "execution_count": 33,
   "metadata": {},
   "outputs": [
    {
     "name": "stdout",
     "output_type": "stream",
     "text": [
      "[1.9896753 1.1867217 1.138107  1.09158   1.0471976 1.0471976 1.0471976\n",
      " 1.0471976 2.8797932 2.0943952 2.09211   2.0859375 2.0797215 2.0734622\n",
      " 2.0671597 2.0608137 1.8325957 1.0884247 1.0744745 1.060732  1.0471976\n",
      " 1.0471976 1.0471976 1.0471976 2.78053   2.0943952 2.0943952 2.0943952\n",
      " 2.0943952 2.0500128 2.0034878 1.9548732 2.8797932 2.0943952 2.0943952\n",
      " 2.0943952 2.0943952 2.0881872 2.081935  2.0756388 2.8797932 2.0943952\n",
      " 2.0943952 2.0943952 2.0943952 2.0500128 2.0034878 1.9548732 2.8797932\n",
      " 1.4679533 1.4535496 1.4391946 1.4248939 1.410653  1.3964773 1.382372\n",
      " 1.8325957 2.0943952 2.0943952 2.0943952 2.0943952 2.053379  2.0105243\n",
      " 1.965868  1.8325957 2.0943952 2.0943952 2.0943952 2.0943952 2.0751016\n",
      " 2.0553882 2.035257 ]\n",
      "offset: [-0.36651921 -0.38407464 -0.43268938 -0.47921629 -0.52359875 -0.52359875\n",
      " -0.52359875 -0.52359875  0.52359868  0.52359883  0.52131359  0.51514117\n",
      "  0.50892512  0.50266592  0.49636333  0.49001734 -0.52359878 -0.48237164\n",
      " -0.49632187 -0.51006432 -0.52359875 -0.52359875 -0.52359875 -0.52359875\n",
      "  0.42433549  0.52359883  0.52359883  0.52359883  0.52359883  0.4792165\n",
      "  0.4326915   0.38407688  0.52359868  0.52359883  0.52359883  0.52359883\n",
      "  0.52359883  0.51739089  0.5111386   0.50484244  0.52359868  0.52359883\n",
      "  0.52359883  0.52359883  0.52359883  0.4792165   0.4326915   0.38407688\n",
      "  0.52359868 -0.102843   -0.1172467  -0.13160177 -0.14590247 -0.16014333\n",
      " -0.17431899 -0.18842431 -0.52359878  0.52359883  0.52359883  0.52359883\n",
      "  0.52359883  0.48258273  0.43972795  0.39507167 -0.52359878  0.52359883\n",
      "  0.52359883  0.52359883  0.52359883  0.50430529  0.48459189  0.46446077]\n",
      "offset in degrees: [-21.00000366 -22.00585613 -24.79127558 -27.45707109 -29.99999833\n",
      " -29.99999833 -29.99999833 -29.99999833  29.99999435  30.00000334\n",
      "  29.86906861  29.51541508  29.15926169  28.80063578  28.43952368\n",
      "  28.07592539 -30.00000049 -27.63785937 -28.4371486  -29.2245328\n",
      " -29.99999833 -29.99999833 -29.99999833 -29.99999833  24.31263243\n",
      "  30.00000334  30.00000334  30.00000334  30.00000334  27.45708293\n",
      "  24.7913967   22.00598409  29.99999435  30.00000334  30.00000334\n",
      "  30.00000334  30.00000334  29.64431441  29.28608465  28.92534138\n",
      "  29.99999435  30.00000334  30.00000334  30.00000334  30.00000334\n",
      "  27.45708293  24.7913967   22.00598409  29.99999435  -5.89246999\n",
      "  -6.71774126  -7.54022581  -8.35959579  -9.17553702  -9.98774214\n",
      " -10.79591744 -30.00000049  30.00000334  30.00000334  30.00000334\n",
      "  30.00000334  27.64995381  25.19455545  22.63593926 -30.00000049\n",
      "  30.00000334  30.00000334  30.00000334  30.00000334  28.89456454\n",
      "  27.76506982  26.61164211]\n"
     ]
    }
   ],
   "source": [
    "angles = np.array(rb['observations'][20735][-84:-12])\n",
    "print(angles)\n",
    "offset = angles - init_angles\n",
    "print(f\"offset: {offset}\")\n",
    "print(f\"offset in degrees: {np.degrees(offset)}\")"
   ]
  },
  {
   "cell_type": "code",
   "execution_count": 27,
   "metadata": {},
   "outputs": [
    {
     "data": {
      "text/plain": [
       "array([ 0.06316352,  0.03851752,  0.01531367, -0.00790675, -0.03111859,\n",
       "       -0.05429705, -0.07741721, -0.10045464,  0.01431943,  0.02105193,\n",
       "       -0.00958605, -0.04020603, -0.07075091, -0.10116406, -0.13138934,\n",
       "       -0.16137655, -0.03092861,  0.0602961 ,  0.03736274,  0.01438992,\n",
       "       -0.00859805, -0.03157695, -0.05452247, -0.07741077,  0.05629326,\n",
       "        0.13126199,  0.11051743,  0.0896769 ,  0.06875805,  0.04777865,\n",
       "        0.026758  ,  0.00571279,  0.08832431, -0.0229059 , -0.04744895,\n",
       "       -0.07193489, -0.09633489, -0.12062021, -0.14476355, -0.16873808,\n",
       "       -0.02204823,  0.01128678, -0.01037593, -0.03202899, -0.053652  ,\n",
       "       -0.07522483, -0.09672697, -0.11814053,  0.088938  ,  0.04018955,\n",
       "        0.01553516, -0.00913818, -0.03380032, -0.05842145, -0.08297189,\n",
       "       -0.10742255, -0.00653362,  0.15716962,  0.13604896,  0.11480562,\n",
       "        0.0934575 ,  0.07202379,  0.05052452,  0.02897732,  0.05667067,\n",
       "        0.04013376,  0.01753454, -0.00508256, -0.02769454, -0.05027814,\n",
       "       -0.07281061, -0.09526928])"
      ]
     },
     "execution_count": 27,
     "metadata": {},
     "output_type": "execute_result"
    }
   ],
   "source": [
    "offset = angles - init_angles\n",
    "offset"
   ]
  },
  {
   "cell_type": "code",
   "execution_count": 28,
   "metadata": {},
   "outputs": [
    {
     "name": "stdout",
     "output_type": "stream",
     "text": [
      "init angles in degrees: [135.  90.  90.  90.  90.  90.  90.  90. 135.  90.  90.  90.  90.  90.\n",
      "  90.  90. 135.  90.  90.  90.  90.  90.  90.  90. 135.  90.  90.  90.\n",
      "  90.  90.  90.  90. 135.  90.  90.  90.  90.  90.  90.  90. 135.  90.\n",
      "  90.  90.  90.  90.  90.  90. 135.  90.  90.  90.  90.  90.  90.  90.\n",
      " 135.  90.  90.  90.  90.  90.  90.  90. 135.  90.  90.  90.  90.  90.\n",
      "  90.  90.]\n",
      "angles in degrees: [138.619     92.20689   90.8774    89.546974  88.21703   86.889\n",
      "  85.564316  84.24437  135.82043   91.206184  89.45075   87.69636\n",
      "  85.946266  84.20372   82.47194   80.7538   133.22792   93.454704\n",
      "  92.140724  90.82448   89.50736   88.19077   86.87609   85.56468\n",
      " 138.22536   97.52075   96.33218   95.1381    93.939545  92.73751\n",
      "  91.53312   90.32732  140.06061   88.687584  87.28137   85.87843\n",
      "  84.480415  83.08897   81.70566   80.332016 133.73672   90.64668\n",
      "  89.405495  88.16487   86.925964  85.689926  84.45795   83.23104\n",
      " 140.09576   92.30269   90.89009   89.47642   88.06338   86.652695\n",
      "  85.246056  83.84514  134.62564   99.00515   97.79503   96.57787\n",
      "  95.35471   94.126656  92.89484   91.66027  138.24698   92.29949\n",
      "  91.00465   89.708786  88.413216  87.11927   85.828255  84.541466]\n",
      "offset in degrees: [ 3.61900339  2.20689127  0.87740861 -0.45302345 -1.78296374 -3.11099157\n",
      " -4.43567944 -5.75562715  0.82044266  1.20618659 -0.54924033 -2.30363589\n",
      " -4.05372843 -5.79627361 -7.52805441 -9.24619533 -1.77207858  3.45471219\n",
      "  2.14072722  0.82448147 -0.49263172 -1.80922581 -3.12390746 -4.43531061\n",
      "  3.22536593  7.52075795  6.33218209  5.13810793  3.93954633  2.737515\n",
      "  1.53312043  0.32731883  5.06061044 -1.31241151 -2.71862452 -4.12156587\n",
      " -5.51958265 -6.91102878 -8.29434017 -9.66798    -1.26327047  0.64668482\n",
      " -0.59449716 -1.83512589 -3.07403341 -4.31006543 -5.54204714 -6.76895402\n",
      "  5.09577225  2.3026915   0.8900991  -0.52357931 -1.93661567 -3.34730245\n",
      " -4.75393893 -6.15485854 -0.37434867  9.00515613  7.79503103  6.57787766\n",
      "  5.35472055  4.12665937  2.89484158  1.66027806  3.24699031  2.29949497\n",
      "  1.00465503 -0.29120944 -1.58678021 -2.8807254  -4.17174044 -5.45852759]\n"
     ]
    }
   ],
   "source": [
    "print(f\"init angles in degrees: {np.degrees(init_angles)}\")\n",
    "print(f\"angles in degrees: {np.degrees(angles)}\")\n",
    "print(f\"offset in degrees: {np.degrees(offset)}\")"
   ]
  },
  {
   "cell_type": "code",
   "execution_count": 29,
   "metadata": {},
   "outputs": [
    {
     "data": {
      "text/plain": [
       "array([ 0.0804223 ,  0.04904203,  0.01949797, -0.01006719, -0.03962142,\n",
       "       -0.06913315, -0.09857065, -0.12790283,  0.01823206,  0.02680415,\n",
       "       -0.01220534, -0.05119191, -0.09008285, -0.12880608, -0.1672901 ,\n",
       "       -0.20547101, -0.03937952,  0.07677138,  0.04757172,  0.01832181,\n",
       "       -0.01094737, -0.04020502, -0.06942017, -0.09856246,  0.0716748 ,\n",
       "        0.16712795,  0.14071516,  0.11418018,  0.08754547,  0.06083367,\n",
       "        0.03406934,  0.00727375,  0.11245801, -0.0291647 , -0.06041388,\n",
       "       -0.09159035, -0.12265739, -0.15357842, -0.18431867, -0.214844  ,\n",
       "       -0.02807268,  0.01437077, -0.01321105, -0.04078058, -0.06831185,\n",
       "       -0.09577923, -0.1231566 , -0.1504212 ,  0.11323938,  0.05117092,\n",
       "        0.01977998, -0.0116351 , -0.0430359 , -0.0743845 , -0.10564309,\n",
       "       -0.13677463, -0.00831886,  0.20011458,  0.17322291,  0.14617506,\n",
       "        0.11899379,  0.09170354,  0.06432981,  0.03689507,  0.07215534,\n",
       "        0.05109989,  0.02232567, -0.00647132, -0.03526178, -0.06401612,\n",
       "       -0.09270534, -0.12130061])"
      ]
     },
     "execution_count": 29,
     "metadata": {},
     "output_type": "execute_result"
    }
   ],
   "source": [
    "offset_deg = np.degrees(offset)\n",
    "normalized_offset = offset_deg / 45.0\n",
    "normalized_offset"
   ]
  },
  {
   "cell_type": "code",
   "execution_count": 6,
   "metadata": {},
   "outputs": [
    {
     "name": "stdout",
     "output_type": "stream",
     "text": [
      "Loading data from /home/hieule/research/saris/local_assets/replay_buffers/SAC__L_shape_static__wireless-sigmap-v0__trained\n"
     ]
    },
    {
     "ename": "FileNotFoundError",
     "evalue": "[Errno 2] No such file or directory: '/home/hieule/research/saris/local_assets/replay_buffers/SAC__L_shape_static__wireless-sigmap-v0__trained/observations.txt'",
     "output_type": "error",
     "traceback": [
      "\u001b[0;31m---------------------------------------------------------------------------\u001b[0m",
      "\u001b[0;31mFileNotFoundError\u001b[0m                         Traceback (most recent call last)",
      "Cell \u001b[0;32mIn[6], line 14\u001b[0m\n\u001b[1;32m     12\u001b[0m \u001b[38;5;28;01mfor\u001b[39;00m name \u001b[38;5;129;01min\u001b[39;00m data_names:\n\u001b[1;32m     13\u001b[0m     filename \u001b[38;5;241m=\u001b[39m os\u001b[38;5;241m.\u001b[39mpath\u001b[38;5;241m.\u001b[39mjoin(sub_dir, \u001b[38;5;124mf\u001b[39m\u001b[38;5;124m\"\u001b[39m\u001b[38;5;132;01m{\u001b[39;00mname\u001b[38;5;132;01m}\u001b[39;00m\u001b[38;5;124m.txt\u001b[39m\u001b[38;5;124m\"\u001b[39m)\n\u001b[0;32m---> 14\u001b[0m     \u001b[38;5;28;01mwith\u001b[39;00m \u001b[38;5;28;43mopen\u001b[39;49m\u001b[43m(\u001b[49m\u001b[43mfilename\u001b[49m\u001b[43m,\u001b[49m\u001b[43m \u001b[49m\u001b[38;5;124;43m\"\u001b[39;49m\u001b[38;5;124;43mr\u001b[39;49m\u001b[38;5;124;43m\"\u001b[39;49m\u001b[43m)\u001b[49m \u001b[38;5;28;01mas\u001b[39;00m f:\n\u001b[1;32m     15\u001b[0m         d_ \u001b[38;5;241m=\u001b[39m f\u001b[38;5;241m.\u001b[39mreadlines()\n\u001b[1;32m     16\u001b[0m         d_ \u001b[38;5;241m=\u001b[39m [\u001b[38;5;28mlist\u001b[39m(json\u001b[38;5;241m.\u001b[39mloads(d)\u001b[38;5;241m.\u001b[39mvalues())[\u001b[38;5;241m0\u001b[39m] \u001b[38;5;28;01mfor\u001b[39;00m d \u001b[38;5;129;01min\u001b[39;00m d_]\n",
      "File \u001b[0;32m~/research/saris_venv/lib/python3.10/site-packages/IPython/core/interactiveshell.py:324\u001b[0m, in \u001b[0;36m_modified_open\u001b[0;34m(file, *args, **kwargs)\u001b[0m\n\u001b[1;32m    317\u001b[0m \u001b[38;5;28;01mif\u001b[39;00m file \u001b[38;5;129;01min\u001b[39;00m {\u001b[38;5;241m0\u001b[39m, \u001b[38;5;241m1\u001b[39m, \u001b[38;5;241m2\u001b[39m}:\n\u001b[1;32m    318\u001b[0m     \u001b[38;5;28;01mraise\u001b[39;00m \u001b[38;5;167;01mValueError\u001b[39;00m(\n\u001b[1;32m    319\u001b[0m         \u001b[38;5;124mf\u001b[39m\u001b[38;5;124m\"\u001b[39m\u001b[38;5;124mIPython won\u001b[39m\u001b[38;5;124m'\u001b[39m\u001b[38;5;124mt let you open fd=\u001b[39m\u001b[38;5;132;01m{\u001b[39;00mfile\u001b[38;5;132;01m}\u001b[39;00m\u001b[38;5;124m by default \u001b[39m\u001b[38;5;124m\"\u001b[39m\n\u001b[1;32m    320\u001b[0m         \u001b[38;5;124m\"\u001b[39m\u001b[38;5;124mas it is likely to crash IPython. If you know what you are doing, \u001b[39m\u001b[38;5;124m\"\u001b[39m\n\u001b[1;32m    321\u001b[0m         \u001b[38;5;124m\"\u001b[39m\u001b[38;5;124myou can use builtins\u001b[39m\u001b[38;5;124m'\u001b[39m\u001b[38;5;124m open.\u001b[39m\u001b[38;5;124m\"\u001b[39m\n\u001b[1;32m    322\u001b[0m     )\n\u001b[0;32m--> 324\u001b[0m \u001b[38;5;28;01mreturn\u001b[39;00m \u001b[43mio_open\u001b[49m\u001b[43m(\u001b[49m\u001b[43mfile\u001b[49m\u001b[43m,\u001b[49m\u001b[43m \u001b[49m\u001b[38;5;241;43m*\u001b[39;49m\u001b[43margs\u001b[49m\u001b[43m,\u001b[49m\u001b[43m \u001b[49m\u001b[38;5;241;43m*\u001b[39;49m\u001b[38;5;241;43m*\u001b[39;49m\u001b[43mkwargs\u001b[49m\u001b[43m)\u001b[49m\n",
      "\u001b[0;31mFileNotFoundError\u001b[0m: [Errno 2] No such file or directory: '/home/hieule/research/saris/local_assets/replay_buffers/SAC__L_shape_static__wireless-sigmap-v0__trained/observations.txt'"
     ]
    }
   ],
   "source": [
    "data = {}\n",
    "data_names = [\n",
    "        \"observations\",\n",
    "        \"actions\",\n",
    "        \"rewards\",\n",
    "        \"next_observations\",\n",
    "        \"truncations\",\n",
    "        \"terminations\",\n",
    "    ]\n",
    "for i, sub_dir in enumerate(glob.glob(replay_buffer_dir + \"/SAC*\")):\n",
    "    print(f\"Loading data from {sub_dir}\")\n",
    "    for name in data_names:\n",
    "        filename = os.path.join(sub_dir, f\"{name}.txt\")\n",
    "        with open(filename, \"r\") as f:\n",
    "            d_ = f.readlines()\n",
    "            d_ = [list(json.loads(d).values())[0] for d in d_]\n",
    "            d_ = np.array(d_)\n",
    "            if name == \"truncations\":\n",
    "                d_[-1, :, :] = 1\n",
    "            d_ = np.transpose(d_, (1, 0, 2))\n",
    "            d_ = np.reshape(d_, (-1, d_.shape[-1]))\n",
    "            if data.get(name) is None:\n",
    "                data[name] = d_\n",
    "            else:\n",
    "                data[name] = np.concatenate([data[name], d_], axis=0)\n",
    "    for k, v in data.items():\n",
    "        print(k, v.shape)\n",
    "    print()\n",
    "\n",
    "# print(\"Saving data\")\n",
    "# offline_replay_buffer_dir = os.path.join(replay_buffer_dir, \"offline\")\n",
    "# os.makedirs(offline_replay_buffer_dir, exist_ok=True)\n",
    "# for k, v in data.items():\n",
    "#     np.save(os.path.join(offline_replay_buffer_dir, f\"{k}.npy\"), v)"
   ]
  },
  {
   "cell_type": "code",
   "execution_count": 5,
   "metadata": {},
   "outputs": [
    {
     "data": {
      "text/plain": [
       "(53792, 1)"
      ]
     },
     "execution_count": 5,
     "metadata": {},
     "output_type": "execute_result"
    }
   ],
   "source": [
    "data['rewards'].shape"
   ]
  },
  {
   "cell_type": "code",
   "execution_count": 6,
   "metadata": {},
   "outputs": [
    {
     "name": "stdout",
     "output_type": "stream",
     "text": [
      "min_reward: -35.05443771649152\n",
      "max_reward: 3.2991380989551544\n",
      "mean_reward: -22.54736009551046\n",
      "std_reward: 8.381205452487608\n"
     ]
    }
   ],
   "source": [
    "min_reward = np.min(data['rewards'])\n",
    "max_reward = np.max(data['rewards'])\n",
    "mean_reward = np.mean(data['rewards'])\n",
    "std_reward = np.std(data['rewards'])\n",
    "print(f\"min_reward: {min_reward}\")\n",
    "print(f\"max_reward: {max_reward}\")\n",
    "print(f\"mean_reward: {mean_reward}\")\n",
    "print(f\"std_reward: {std_reward}\")"
   ]
  },
  {
   "cell_type": "code",
   "execution_count": null,
   "metadata": {},
   "outputs": [],
   "source": []
  },
  {
   "cell_type": "code",
   "execution_count": null,
   "metadata": {},
   "outputs": [],
   "source": []
  }
 ],
 "metadata": {
  "kernelspec": {
   "display_name": "saris_venv",
   "language": "python",
   "name": "python3"
  },
  "language_info": {
   "codemirror_mode": {
    "name": "ipython",
    "version": 3
   },
   "file_extension": ".py",
   "mimetype": "text/x-python",
   "name": "python",
   "nbconvert_exporter": "python",
   "pygments_lexer": "ipython3",
   "version": "3.10.14"
  }
 },
 "nbformat": 4,
 "nbformat_minor": 2
}
